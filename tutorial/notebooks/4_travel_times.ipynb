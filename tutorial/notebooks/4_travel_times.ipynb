{
 "cells": [
  {
   "cell_type": "markdown",
   "id": "4d407dc7",
   "metadata": {},
   "source": [
    "# Compute P-/S-wave travel Times\n",
    "\n",
    "In this notebook, we compute the table of P-/S-wave travel times from a 3D grid of potential source locations to every seismic station. This travel time table is necessary for backprojection and for earthquake location with `NLLoc`.\n",
    "\n",
    "This tutorial uses the `pykonal` package to compute travel times in a given velocity model (see `pykonal` documentation at [https://github.com/malcolmw/pykonal](https://github.com/malcolmw/pykonal)). Please acknowledge [White et al. (2020)](https://pubs.geoscienceworld.org/ssa/srl/article-abstract/91/4/2378/586804/PyKonal-A-Python-Package-for-Solving-the-Eikonal?redirectedFrom=fulltext) if using `pykonal`."
   ]
  },
  {
   "cell_type": "code",
   "execution_count": 1,
   "id": "053d6969",
   "metadata": {},
   "outputs": [],
   "source": [
    "import BPMF\n",
    "import h5py as h5\n",
    "import numpy as np\n",
    "import os\n",
    "import pykonal\n",
    "import pandas as pd\n",
    "import sys\n",
    "\n",
    "\n",
    "from BPMF import NLLoc_utils\n",
    "from obspy import UTCDateTime as udt\n",
    "from scipy.interpolate import interp1d, LinearNDInterpolator\n",
    "from time import time as give_time"
   ]
  },
  {
   "cell_type": "markdown",
   "id": "8be78738",
   "metadata": {},
   "source": [
    "## Read the velocity model from Karabulut et al. 2011"
   ]
  },
  {
   "cell_type": "code",
   "execution_count": 2,
   "id": "4cbfa111",
   "metadata": {},
   "outputs": [],
   "source": [
    "# we assume that you are running this notebook from Seismic_BPMF/notebooks/ and the velocity model\n",
    "# is stored at Seismic_BPMF/data/\n",
    "FILEPATH_VEL_MODEL = os.path.join(os.pardir, \"data\", \"velocity_model_Karabulut2011.csv\")"
   ]
  },
  {
   "cell_type": "markdown",
   "id": "4ac6b2d7",
   "metadata": {},
   "source": [
    "We read the velocity model with `pandas`. Not all columns of the csv files are necessary for our purpose. The velocity model is a 1D layered model and the `depth` column gives the top of each layer in meters (positive downward). The `P` and `S` columns are the wave velocities in m/s."
   ]
  },
  {
   "cell_type": "code",
   "execution_count": 27,
   "id": "e87583a2",
   "metadata": {},
   "outputs": [
    {
     "data": {
      "text/html": [
       "<div>\n",
       "<style scoped>\n",
       "    .dataframe tbody tr th:only-of-type {\n",
       "        vertical-align: middle;\n",
       "    }\n",
       "\n",
       "    .dataframe tbody tr th {\n",
       "        vertical-align: top;\n",
       "    }\n",
       "\n",
       "    .dataframe thead th {\n",
       "        text-align: right;\n",
       "    }\n",
       "</style>\n",
       "<table border=\"1\" class=\"dataframe\">\n",
       "  <thead>\n",
       "    <tr style=\"text-align: right;\">\n",
       "      <th></th>\n",
       "      <th>0</th>\n",
       "      <th>1</th>\n",
       "      <th>2</th>\n",
       "      <th>3</th>\n",
       "      <th>4</th>\n",
       "      <th>5</th>\n",
       "      <th>6</th>\n",
       "      <th>7</th>\n",
       "      <th>8</th>\n",
       "      <th>9</th>\n",
       "      <th>10</th>\n",
       "      <th>11</th>\n",
       "      <th>12</th>\n",
       "      <th>13</th>\n",
       "      <th>14</th>\n",
       "      <th>15</th>\n",
       "      <th>16</th>\n",
       "      <th>17</th>\n",
       "    </tr>\n",
       "  </thead>\n",
       "  <tbody>\n",
       "    <tr>\n",
       "      <th>depth</th>\n",
       "      <td>-2000.0</td>\n",
       "      <td>0.0</td>\n",
       "      <td>1000.0</td>\n",
       "      <td>2000.0</td>\n",
       "      <td>3000.0</td>\n",
       "      <td>4000.0</td>\n",
       "      <td>5000.0</td>\n",
       "      <td>6000.0</td>\n",
       "      <td>8000.0</td>\n",
       "      <td>10000.0</td>\n",
       "      <td>12000.0</td>\n",
       "      <td>14000.0</td>\n",
       "      <td>15000.0</td>\n",
       "      <td>20000.0</td>\n",
       "      <td>22000.0</td>\n",
       "      <td>25000.0</td>\n",
       "      <td>32000.0</td>\n",
       "      <td>77000.0</td>\n",
       "    </tr>\n",
       "    <tr>\n",
       "      <th>P</th>\n",
       "      <td>2900.0</td>\n",
       "      <td>3000.0</td>\n",
       "      <td>5600.0</td>\n",
       "      <td>5700.0</td>\n",
       "      <td>5800.0</td>\n",
       "      <td>5900.0</td>\n",
       "      <td>5950.0</td>\n",
       "      <td>6050.0</td>\n",
       "      <td>6100.0</td>\n",
       "      <td>6150.0</td>\n",
       "      <td>6200.0</td>\n",
       "      <td>6250.0</td>\n",
       "      <td>6300.0</td>\n",
       "      <td>6400.0</td>\n",
       "      <td>6500.0</td>\n",
       "      <td>6700.0</td>\n",
       "      <td>8000.0</td>\n",
       "      <td>8045.0</td>\n",
       "    </tr>\n",
       "    <tr>\n",
       "      <th>S</th>\n",
       "      <td>1670.0</td>\n",
       "      <td>1900.0</td>\n",
       "      <td>3150.0</td>\n",
       "      <td>3210.0</td>\n",
       "      <td>3260.0</td>\n",
       "      <td>3410.0</td>\n",
       "      <td>3420.0</td>\n",
       "      <td>3440.0</td>\n",
       "      <td>3480.0</td>\n",
       "      <td>3560.0</td>\n",
       "      <td>3590.0</td>\n",
       "      <td>3610.0</td>\n",
       "      <td>3630.0</td>\n",
       "      <td>3660.0</td>\n",
       "      <td>3780.0</td>\n",
       "      <td>3850.0</td>\n",
       "      <td>4650.0</td>\n",
       "      <td>4650.0</td>\n",
       "    </tr>\n",
       "  </tbody>\n",
       "</table>\n",
       "</div>"
      ],
      "text/plain": [
       "           0       1       2       3       4       5       6       7       8   \\\n",
       "depth -2000.0     0.0  1000.0  2000.0  3000.0  4000.0  5000.0  6000.0  8000.0   \n",
       "P      2900.0  3000.0  5600.0  5700.0  5800.0  5900.0  5950.0  6050.0  6100.0   \n",
       "S      1670.0  1900.0  3150.0  3210.0  3260.0  3410.0  3420.0  3440.0  3480.0   \n",
       "\n",
       "            9        10       11       12       13       14       15       16  \\\n",
       "depth  10000.0  12000.0  14000.0  15000.0  20000.0  22000.0  25000.0  32000.0   \n",
       "P       6150.0   6200.0   6250.0   6300.0   6400.0   6500.0   6700.0   8000.0   \n",
       "S       3560.0   3590.0   3610.0   3630.0   3660.0   3780.0   3850.0   4650.0   \n",
       "\n",
       "            17  \n",
       "depth  77000.0  \n",
       "P       8045.0  \n",
       "S       4650.0  "
      ]
     },
     "execution_count": 27,
     "metadata": {},
     "output_type": "execute_result"
    }
   ],
   "source": [
    "# read the velocity model with pandas\n",
    "velocity_model = pd.read_csv(\n",
    "    FILEPATH_VEL_MODEL, \n",
    "    usecols=[1, 2, 4],\n",
    "    names=[\"depth\", \"P\", \"S\"],\n",
    "    skiprows=1,\n",
    "    )\n",
    "velocity_model.T"
   ]
  },
  {
   "cell_type": "markdown",
   "id": "71fa08d5",
   "metadata": {},
   "source": [
    "## Build a 3D Grid of P-/S-wave Velocities\n",
    "\n",
    "Even though the model used here is a 1D model, `pykonal` works with a 3D model. Therefore, we first need to define the velocity model on a 3D spatial grid."
   ]
  },
  {
   "cell_type": "code",
   "execution_count": 22,
   "id": "0fc86f82",
   "metadata": {},
   "outputs": [],
   "source": [
    "# define constant to go from degrees to radians\n",
    "DEG_TO_RAD = np.pi / 180.\n",
    "# define the geographical extent of the 3D grid\n",
    "LON_MIN_DEG = 30.20\n",
    "LON_MAX_DEG = 30.45\n",
    "LAT_MIN_DEG = 40.60\n",
    "LAT_MAX_DEG = 40.75\n",
    "DEP_MIN_KM = -2.0\n",
    "DEP_MAX_KM = 30.\n",
    "# define the grid spacing\n",
    "D_LON_DEG = 0.01 \n",
    "D_LAT_DEG = 0.01\n",
    "D_LON_RAD = D_LON_DEG * DEG_TO_RAD\n",
    "D_LAT_RAD = D_LAT_DEG * DEG_TO_RAD\n",
    "D_DEP_KM = 0.5"
   ]
  },
  {
   "cell_type": "code",
   "execution_count": 28,
   "id": "b2d14b6b",
   "metadata": {},
   "outputs": [],
   "source": [
    "# we will be using pykonal in spherical coordinates with radial coordinates (depth) in km\n",
    "# therefore, we first convert all meters in kilometers\n",
    "velocity_model[\"depth\"] /= 1000.0\n",
    "velocity_model[\"P\"] /= 1000.0\n",
    "velocity_model[\"S\"] /= 1000.0\n"
   ]
  },
  {
   "cell_type": "code",
   "execution_count": 29,
   "id": "1e9f75bb",
   "metadata": {},
   "outputs": [],
   "source": [
    "# to expand the 1D layered velocity model onto a 3D grid,\n",
    "# we build an interpolator that gives the velocity at any point in depth\n",
    "# to preserve the layered structure in the interpolated model, we need to\n",
    "# add new rows to the 1D model to keep the velocity discontinuities\n",
    "\n",
    "# new depths just below the existing depths\n",
    "new_depths = velocity_model[\"depth\"][1:] - 0.00001\n",
    "# P-wave velocity interpolator\n",
    "new_vP = velocity_model[\"P\"][:-1]\n",
    "interpolator_P = interp1d(\n",
    "    np.hstack((velocity_model[\"depth\"], new_depths)),\n",
    "    np.hstack((velocity_model[\"P\"], new_vP)),\n",
    ")\n",
    "# S-wave velocity interpolator\n",
    "new_vS = velocity_model[\"S\"][:-1]\n",
    "interpolator_S = interp1d(\n",
    "    np.hstack((velocity_model[\"depth\"], new_depths)),\n",
    "    np.hstack((velocity_model[\"S\"], new_vS)),\n",
    ")"
   ]
  },
  {
   "cell_type": "markdown",
   "id": "6dc79f87",
   "metadata": {},
   "source": [
    "The spherical coordinate system used by `pykonal` specifies a point position with $(r, \\theta, \\varphi)$:\n",
    "- $r$: Distance from center or Earth in km (= decreasing depth).\n",
    "- $\\theta$: Polar angle in radians (= co-latitude or, equivalently, decreasing latitude).\n",
    "- $\\varphi$: Azimuthal angle in radians (= longitude).\n",
    "\n",
    "Thus, the 3D grid must be built such that $r$, $\\theta$ and $\\varphi$ increase with increasing index. Axis 0 is decreasing depth, axis 1 is decreasing latitude and axis 2 is increasing longitude."
   ]
  },
  {
   "cell_type": "code",
   "execution_count": 23,
   "id": "002daac2",
   "metadata": {},
   "outputs": [
    {
     "name": "stdout",
     "output_type": "stream",
     "text": [
      "Increasing longitudes:  [30.2  30.21 30.22 30.23 30.24 30.25 30.26 30.27 30.28 30.29 30.3  30.31\n",
      " 30.32 30.33 30.34 30.35 30.36 30.37 30.38 30.39 30.4  30.41 30.42 30.43\n",
      " 30.44 30.45]\n",
      "Decreasing latitudes:  [40.75 40.74 40.73 40.72 40.71 40.7  40.69 40.68 40.67 40.66 40.65 40.64\n",
      " 40.63 40.62 40.61 40.6 ]\n",
      "Decreasing depths:  [30.  29.5 29.  28.5 28.  27.5 27.  26.5 26.  25.5 25.  24.5 24.  23.5\n",
      " 23.  22.5 22.  21.5 21.  20.5 20.  19.5 19.  18.5 18.  17.5 17.  16.5\n",
      " 16.  15.5 15.  14.5 14.  13.5 13.  12.5 12.  11.5 11.  10.5 10.   9.5\n",
      "  9.   8.5  8.   7.5  7.   6.5  6.   5.5  5.   4.5  4.   3.5  3.   2.5\n",
      "  2.   1.5  1.   0.5  0.  -0.5 -1.  -1.5 -2. ]\n"
     ]
    }
   ],
   "source": [
    "# make sure the user-specified ends of the grid are included in the arange vectors\n",
    "longitudes = np.arange(LON_MIN_DEG, LON_MAX_DEG+D_LON_DEG/2., D_LON_DEG)\n",
    "latitudes = np.arange(LAT_MAX_DEG, LAT_MIN_DEG-D_LAT_DEG/2., -D_LAT_DEG)\n",
    "depths = np.arange(DEP_MAX_KM, DEP_MIN_KM-D_DEP_KM/2., -D_DEP_KM)\n",
    "\n",
    "print(\"Increasing longitudes: \", longitudes)\n",
    "print(\"Decreasing latitudes: \", latitudes)\n",
    "print(\"Decreasing depths: \", depths)\n",
    "\n",
    "# get the number of points in each direction\n",
    "n_longitudes = len(longitudes)\n",
    "n_latitudes = len(latitudes)\n",
    "n_depths = len(depths)"
   ]
  },
  {
   "cell_type": "code",
   "execution_count": 31,
   "id": "97a831e5",
   "metadata": {},
   "outputs": [],
   "source": [
    "# use the previously defined interpolators to compute the P-/S-wave velocity\n",
    "# at each point of the 3D spherical coordinate grid defined by depths, latitudes, longitudes (see above cell)\n",
    "vP_grid = np.zeros((n_depths, n_latitudes, n_longitudes), dtype=np.float32)\n",
    "vS_grid = np.zeros((n_depths, n_latitudes, n_longitudes), dtype=np.float32)\n",
    "for i in range(n_depths):\n",
    "    vP_grid[i, :, :] = interpolator_P(depths[i])\n",
    "    vS_grid[i, :, :] = interpolator_S(depths[i])\n",
    "\n",
    "depths_g, latitudes_g, longitudes_g = np.meshgrid(\n",
    "    depths, latitudes, longitudes, indexing=\"ij\"\n",
    ")\n",
    "\n",
    "# keep velocities and grid point coordinates in a dictionary for later use\n",
    "grid = {}\n",
    "grid[\"vP\"] = vP_grid\n",
    "grid[\"vS\"] = vS_grid\n",
    "grid[\"longitude\"] = longitudes_g\n",
    "grid[\"latitude\"] = latitudes_g\n",
    "grid[\"depth\"] = depths_g"
   ]
  },
  {
   "cell_type": "markdown",
   "id": "22c607dc",
   "metadata": {},
   "source": [
    "The 3D grid is ready! This piece of code can easily be adapted for using a 2D or 3D input velocity model. Keep in mind that, in most cases, even a 3D velocity model will have to be re-ordered to satisfy `pykonal` conventions."
   ]
  },
  {
   "cell_type": "markdown",
   "id": "62302530",
   "metadata": {},
   "source": [
    "## Compute the P-/S-wave travel times"
   ]
  }
 ],
 "metadata": {
  "kernelspec": {
   "display_name": "Python 3.10.4 ('hy7_py310')",
   "language": "python",
   "name": "python3"
  },
  "language_info": {
   "codemirror_mode": {
    "name": "ipython",
    "version": 3
   },
   "file_extension": ".py",
   "mimetype": "text/x-python",
   "name": "python",
   "nbconvert_exporter": "python",
   "pygments_lexer": "ipython3",
   "version": "3.10.4"
  },
  "vscode": {
   "interpreter": {
    "hash": "221f0e5b1b98151b07a79bf3b6d0c1d306576197d2c4531763770570a29e708e"
   }
  }
 },
 "nbformat": 4,
 "nbformat_minor": 5
}
